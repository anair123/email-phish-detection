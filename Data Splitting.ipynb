{
 "cells": [
  {
   "cell_type": "markdown",
   "metadata": {
    "id": "Z6YDdecFqBQo"
   },
   "source": [
    "# Load Data: Phishing Mail\n",
    "link https://huggingface.co/datasets/zefang-liu/phishing-email-dataset\n"
   ]
  },
  {
   "cell_type": "code",
   "execution_count": null,
   "metadata": {
    "id": "6Lpyc5EQnd1o"
   },
   "outputs": [],
   "source": [
    "import pandas as pd\n",
    "from sklearn.model_selection import train_test_split\n",
    "import matplotlib.pyplot as plt\n"
   ]
  },
  {
   "cell_type": "code",
   "execution_count": null,
   "metadata": {
    "colab": {
     "base_uri": "https://localhost:8080/"
    },
    "id": "K4JG-WTbqkvb",
    "outputId": "7c60caf4-649e-4915-c61f-e652467e45fc"
   },
   "outputs": [],
   "source": [
    "# Load data (source: https://huggingface.co/datasets/zefang-liu/phishing-email-dataset)\n",
    "\n",
    "\n",
    "df = pd.read_csv(\"hf://datasets/zefang-liu/phishing-email-dataset/Phishing_Email.csv\")"
   ]
  },
  {
   "cell_type": "code",
   "execution_count": null,
   "metadata": {
    "colab": {
     "base_uri": "https://localhost:8080/"
    },
    "id": "xWslp-KbqBRS",
    "outputId": "a38d2345-00bf-44bc-c9d0-295e1b1a5c3b"
   },
   "outputs": [],
   "source": [
    "df.info()\n"
   ]
  },
  {
   "cell_type": "code",
   "execution_count": null,
   "metadata": {
    "colab": {
     "base_uri": "https://localhost:8080/"
    },
    "id": "hGUVHAJYsurl",
    "outputId": "24fd07e2-e2b5-4707-cff1-1e1b52ee417e"
   },
   "outputs": [],
   "source": [
    "df.shape"
   ]
  },
  {
   "cell_type": "code",
   "execution_count": null,
   "metadata": {
    "colab": {
     "base_uri": "https://localhost:8080/"
    },
    "id": "_aFNABUYqo2I",
    "outputId": "eebed752-9977-470f-8b54-48de682be50d"
   },
   "outputs": [],
   "source": [
    "df.columns"
   ]
  },
  {
   "cell_type": "markdown",
   "metadata": {
    "id": "phSOCWziqBRY"
   },
   "source": [
    "# Preprocesing data"
   ]
  },
  {
   "cell_type": "code",
   "execution_count": null,
   "metadata": {
    "colab": {
     "base_uri": "https://localhost:8080/"
    },
    "id": "EA1alN-oq4ci",
    "outputId": "408a676e-8f2e-438a-f408-248f1d1657b5"
   },
   "outputs": [],
   "source": [
    "\n",
    "# Check column names\n",
    "print(\"\\n📋 Columns:\", df.columns.tolist())\n",
    "\n",
    "# Check for missing values\n",
    "print(\"\\n🔍 Missing values:\\n\", df.isnull().sum())\n",
    "\n",
    "# Check class distribution\n",
    "print(\"\\n⚖️ Class distribution:\")\n",
    "print(df['Email Type'].value_counts(normalize=True) * 100)\n",
    "\n",
    "# Check for duplicates\n",
    "print(\"\\n🔍 Duplicated rows:\", df.duplicated().sum())\n",
    "\n",
    "# Check unique ID consistency\n",
    "print(\"\\n🔎 Unique Email No.:\", df['Unnamed: 0'].nunique(), \"/\", len(df))"
   ]
  },
  {
   "cell_type": "code",
   "execution_count": null,
   "metadata": {
    "colab": {
     "base_uri": "https://localhost:8080/",
     "height": 410
    },
    "id": "sAlLBRmDrTrD",
    "outputId": "c06f2a34-4653-45c4-cc65-a4d685c93361"
   },
   "outputs": [],
   "source": [
    "# Optional: visualize class distribution\n",
    "plt.figure(figsize=(4,4))\n",
    "df['Email Type'].value_counts().plot(kind='bar', title='Class Distribution (Label)')\n",
    "plt.xticks(ticks=[0, 1], labels=['Not phishing (0)', 'Phishing (1)'], rotation=0)\n",
    "plt.ylabel(\"Count\")\n",
    "plt.show()"
   ]
  },
  {
   "cell_type": "code",
   "execution_count": null,
   "metadata": {
    "colab": {
     "base_uri": "https://localhost:8080/",
     "height": 178
    },
    "id": "KHgdE8CKqBRt",
    "outputId": "28752e5a-11d9-4db0-cd1b-37922a03cdd2"
   },
   "outputs": [],
   "source": [
    "# Check phishing email\n",
    "df['Email Type'].value_counts()"
   ]
  },
  {
   "cell_type": "code",
   "execution_count": null,
   "metadata": {
    "id": "2VSppD9OlPeu"
   },
   "outputs": [],
   "source": [
    "# Remove rows where Email Text is missing\n",
    "df_clean = df.dropna(subset=['Email Text'])"
   ]
  },
  {
   "cell_type": "code",
   "execution_count": null,
   "metadata": {
    "colab": {
     "base_uri": "https://localhost:8080/",
     "height": 178
    },
    "id": "T5R124NTlQ2u",
    "outputId": "d56b99fd-577a-4d55-888a-3a2995817f25"
   },
   "outputs": [],
   "source": [
    "df_clean.isnull().sum()\n"
   ]
  },
  {
   "cell_type": "code",
   "execution_count": null,
   "metadata": {
    "id": "wJ6jYjRBqBRu"
   },
   "outputs": [],
   "source": [
    "# Drop first column\n",
    "df_clean = df_clean.drop(columns= 'Unnamed: 0',axis=1)"
   ]
  },
  {
   "cell_type": "code",
   "execution_count": null,
   "metadata": {
    "colab": {
     "base_uri": "https://localhost:8080/"
    },
    "id": "z48H8hu7qBRu",
    "outputId": "73a072e9-b36b-43c9-a2ca-b7f3db58b9c5"
   },
   "outputs": [],
   "source": [
    "# Check for Placeholder Text (like 'empty')\n",
    "placeholder_count = (df_clean['Email Text'].str.lower() == 'empty').sum()\n",
    "print(f\"Rows with 'empty' as placeholder: {placeholder_count}\")\n"
   ]
  },
  {
   "cell_type": "code",
   "execution_count": null,
   "metadata": {
    "id": "TQyy-yjGqBRu"
   },
   "outputs": [],
   "source": [
    "# Drop empty values\n",
    "df_clean = df_clean[df_clean['Email Text'].str.lower() != 'empty']"
   ]
  },
  {
   "cell_type": "code",
   "execution_count": null,
   "metadata": {
    "colab": {
     "base_uri": "https://localhost:8080/"
    },
    "id": "H_bqXKOAsZxk",
    "outputId": "c36f8353-d481-401b-ec79-0a9dfdb01e91"
   },
   "outputs": [],
   "source": [
    "# Check for Truly Empty Strings\n",
    "empty_string_count = (df_clean['Email Text'] == '').sum()\n",
    "print(f\"Empty strings (''): {empty_string_count}\")"
   ]
  },
  {
   "cell_type": "code",
   "execution_count": null,
   "metadata": {
    "id": "tOeCbdtEnkHs"
   },
   "outputs": [],
   "source": [
    "# Binary numeric values\n",
    "df_clean['Email Type'] = df_clean['Email Type'].map({'Safe Email' :1 ,'Phishing Email' : 0})\n",
    "\n",
    "#  Define features (X) and target (y)\n",
    "X = df_clean[['Email Text']]  #  text as features\n",
    "y = df_clean['Email Type']   # target for stratification\n"
   ]
  },
  {
   "cell_type": "code",
   "execution_count": null,
   "metadata": {
    "id": "uirhwFbpqhW-"
   },
   "outputs": [],
   "source": [
    "\n",
    "# Perform 70-30 stratified split\n",
    "X_train, X_test, y_train, y_test = train_test_split(\n",
    "    X, y,\n",
    "    test_size=0.3,\n",
    "    stratify=y,\n",
    "    random_state=42\n",
    ")\n"
   ]
  },
  {
   "cell_type": "code",
   "execution_count": null,
   "metadata": {
    "colab": {
     "base_uri": "https://localhost:8080/"
    },
    "id": "lV8oFnQCqwkX",
    "outputId": "f1fa2eb6-6ce2-4a4c-fa2b-e27f5ab4a4ed"
   },
   "outputs": [],
   "source": [
    "# Combine X and y for convenient inspection\n",
    "train_df = X_train.copy()\n",
    "train_df['Label'] = y_train\n",
    "\n",
    "test_df = X_test.copy()\n",
    "test_df['Label'] = y_test\n",
    "\n",
    "print(\"\\nFinal splits:\")\n",
    "print(\"Train:\", train_df.shape)\n",
    "print(\"Test:\", test_df.shape)\n",
    "\n"
   ]
  },
  {
   "cell_type": "code",
   "execution_count": null,
   "metadata": {
    "id": "dTUxlu5Xsm8h"
   },
   "outputs": [],
   "source": [
    "# Save files\n",
    "#train_df.to_csv(\"Data/train.csv\", index=False)\n",
    "#test_df.to_csv(\"Data/test.csv\", index=False)"
   ]
  },
  {
   "cell_type": "markdown",
   "metadata": {
    "id": "pCxsFJOfqBRw"
   },
   "source": [
    "# BERT Evaluation"
   ]
  },
  {
   "cell_type": "code",
   "execution_count": null,
   "metadata": {
    "id": "66f-AK7FswPd"
   },
   "outputs": [],
   "source": [
    "import re\n",
    "\n",
    "def clean_email_text(text):\n",
    "    if isinstance(text, str):\n",
    "        # Normalize whitespace characters\n",
    "        text = text.replace('\\n', ' ').replace('\\r', ' ').replace('\\t', ' ')\n",
    "        text = re.sub(r'\\s+', ' ', text)\n",
    "\n",
    "        # Mask email addresses\n",
    "        text = re.sub(r'\\b[\\w.-]+?@\\w+?\\.\\w+?\\b', ' [EMAIL] ', text)\n",
    "\n",
    "        # Mask URLs\n",
    "        text = re.sub(r'https?://\\S+|www\\.\\S+', ' [URL] ', text)\n",
    "\n",
    "        # Replace long numbers (IDs or phone numbers)\n",
    "        text = re.sub(r'\\d{5,}', ' [NUM] ', text)\n",
    "\n",
    "        # Remove repeated punctuation like \"!!!\" or \"??\"\n",
    "        text = re.sub(r'([!?.]){2,}', r'\\1', text)\n",
    "\n",
    "        # Remove unwanted characters but keep certain punctuations\n",
    "        allowed_chars = r'[^\\w\\s\\[\\].,!?@-]'\n",
    "        text = re.sub(allowed_chars, '', text)\n",
    "\n",
    "        # Convert to lowercase and trim\n",
    "        return text.strip().lower()\n",
    "\n",
    "    return \"\"\n",
    "\n",
    "# Apply the function\n",
    "#df['clean_text'] = df['Email Text'].map(clean_email_text) for entire dataset\n",
    "X_train['clean_text'] = X_train['Email Text'].map(clean_email_text)\n",
    "X_test['clean_text'] = X_test['Email Text'].map(clean_email_text)"
   ]
  },
  {
   "cell_type": "code",
   "execution_count": null,
   "metadata": {
    "colab": {
     "base_uri": "https://localhost:8080/"
    },
    "id": "h_WGEbFiqBRw",
    "outputId": "6afb9516-15db-42a1-9333-d4a886a97234"
   },
   "outputs": [],
   "source": [
    "import torch\n",
    "from transformers import AutoTokenizer, AutoModel\n",
    "import numpy as np\n",
    "from tqdm import tqdm\n",
    "\n",
    "# Load model and tokenizer\n",
    "tokenizer = AutoTokenizer.from_pretrained('bert-base-uncased')\n",
    "model = AutoModel.from_pretrained('bert-base-uncased')\n",
    "model.eval()\n",
    "\n",
    "# Use GPU if available\n",
    "device = torch.device(\"cuda\" if torch.cuda.is_available() else \"cpu\")\n",
    "model.to(device)\n",
    "print(f\"Using device: {device}\")\n",
    "# Batched embedding function\n",
    "def get_embeddings_batched(texts, batch_size=32):\n",
    "    all_embeddings = []\n",
    "\n",
    "    for i in tqdm(range(0, len(texts), batch_size)):\n",
    "        batch = texts[i:i + batch_size]\n",
    "\n",
    "        # Tokenize with padding and truncation\n",
    "        inputs = tokenizer(batch, return_tensors='pt', padding=True, truncation=True, max_length=512)\n",
    "        inputs = {k: v.to(device) for k, v in inputs.items()}\n",
    "\n",
    "        with torch.no_grad():\n",
    "            outputs = model(**inputs)\n",
    "\n",
    "        # Mean pool across tokens for each sequence\n",
    "        last_hidden = outputs.last_hidden_state  # shape: [batch_size, seq_len, hidden_size]\n",
    "        batch_embeddings = last_hidden.mean(dim=1).cpu().numpy()  # shape: [batch_size, hidden_size]\n",
    "\n",
    "        all_embeddings.append(batch_embeddings)\n",
    "\n",
    "    return np.vstack(all_embeddings)\n",
    "\n",
    "# Apply to your DataFrame\n",
    "train_texts = X_train['clean_text'].tolist()\n",
    "test_texts = X_test['clean_text'].tolist()\n",
    "\n",
    "train_embeddings = get_embeddings_batched(train_texts)\n",
    "test_embeddings = get_embeddings_batched(test_texts)"
   ]
  },
  {
   "cell_type": "code",
   "execution_count": null,
   "metadata": {
    "colab": {
     "base_uri": "https://localhost:8080/"
    },
    "id": "hokkS232qBRx",
    "outputId": "263d8527-1a88-4638-8285-c66a842efd04"
   },
   "outputs": [],
   "source": [
    "from sklearn.ensemble import RandomForestClassifier\n",
    "from sklearn.model_selection import train_test_split\n",
    "from sklearn.metrics import classification_report\n",
    "\n",
    "model = RandomForestClassifier()\n",
    "model.fit(train_embeddings, y_train)\n",
    "\n",
    "y_pred = model.predict(test_embeddings)\n",
    "print(classification_report(y_test, y_pred))"
   ]
  },
  {
   "cell_type": "markdown",
   "metadata": {
    "id": "pFU9NyQ4qBRx"
   },
   "source": [
    "# Transformer all-MiniLM-L6-v2"
   ]
  },
  {
   "cell_type": "code",
   "execution_count": null,
   "metadata": {
    "colab": {
     "base_uri": "https://localhost:8080/",
     "height": 433,
     "referenced_widgets": [
      "85aa59c6775c42e0a351d493dbf9d42b",
      "0263080281524bf8a52ab7c8241aafe2",
      "a7b74c1a9774401592d0277c3ad9a4bc",
      "9cf14e8be22145398c7049d66ea8ffe3",
      "c802e3aa18194c098cc618cd7e261426",
      "c6779aa74867449bb868255ed2b00f00",
      "9915852d8f1d41f68a99e1eea9e4fb61",
      "2d1e69e9bcaa417c8850c527ba6d99de",
      "1799eaab5f054c3f9aab96f0ae52a1dc",
      "04905fdf4c9d4ece9b1a2a41cda7de7d",
      "5b0b91444fde40868084db49573dd5f0",
      "236a7a0d2dc9431ea6927d73437a9f08",
      "fb362a023398496d977d2f3d5f2fdf4b",
      "a172ba3fc37c4b61bf9f646afc10fde1",
      "f1aae41b8e1a4bdf821661c469a9ed44",
      "76e6d73edb424ecebc605e9bbdf94fa2",
      "e9a7cc149e9345b7955e2f4ca2f0f726",
      "3b01a6586d0c442c92a927b644b83d08",
      "724876259f1c4abeb8d4485dce72466b",
      "d24d539f4d984d71bdd019754b2a7e94",
      "aca56a401b074640b089238dc6e67e98",
      "2f70bdb8e83d4577a44c2db7ff7093c1",
      "2be8adce390c4339a926d17da8468326",
      "dc9ab8af9c5c4f2fad1c0b3cda652f36",
      "8bee19f6278e49ca8a83adb4ddfc16da",
      "f48b5473da1a49ed9780ec4a36e4b747",
      "40a625ffbc73483f9b605f5e9b18087a",
      "f99defa688044baebbe3c5d5f7c1972c",
      "54d26f34eab44471a7e7e74f8dd01fbc",
      "2f615705ed18436fa6221f4980f96a46",
      "a3ad73b9f34542c986c909dbf15ff2cd",
      "65a11d21998040a3bd14e543141a1ab4",
      "f516781407b141dab83a04ab52e47043",
      "511e7325be794c9ca60256485480af85",
      "25a90f33b90744939f0fb7e05c145922",
      "04b03c09e4b440f89543e02536d56744",
      "140c7f8df9ce47c3934c88dff71b6c22",
      "ac9e4c7a96d64c9b84ce1690414b2b09",
      "b4116d69978440749bb5009fe80be22c",
      "233ae6eea57e45cba861d87bd6c7a802",
      "e10eb54b8ff14d04a2078611cf726a99",
      "986bf9d5a4e64ea8b5e083610a9e3e1d",
      "97bce85c19414dc1aae6fbae688ce192",
      "fe051491ee564bcd916662ad543e006e",
      "b8ec9a50d753461886d11a69b96c5fa9",
      "55dbbab9c5bc48f995d88a6797868d60",
      "28a98fb1578b48d2afc525ec7ac4757f",
      "a33cef0c6e4c4652ac0160d3cb2a021c",
      "f8deeda3d2a84a5d8c45a926e092a207",
      "c3e62f09de5f48fe9a0364477fb90833",
      "923ffaaa9a8945e7af5b91672b9af86e",
      "821d59bfbe21413cab5a3e589e270941",
      "0b2bc59b4c974fc2922d2bf69d14d284",
      "1a8b134c36714b9ca9104f317c15ef28",
      "cffb1d9c851b458ca5ded0ae1ad9dc95",
      "77e5651f200e455db813dbc14341b3f2",
      "9b10d4519b2f480786efa878b4146ef1",
      "6776e9415f214a1a94cb9b6a937fc003",
      "65ead0288c4c489cbc5a688eb3b6b4c1",
      "0616c16fe525440ebac989381eee733a",
      "ecfdc3cfaaf749b092d4e1ab90eb56b3",
      "1ed00997a5e24f91b858469aa0037771",
      "f07ff3ac63f247f3b9c6d862b100f0ee",
      "4f642619df1742789857ec72132a4186",
      "943522f23828457e82df72dae57e4a7b",
      "f9416ab36b614dd2aef368880147b21a",
      "60587a97fe874951adc6222b0d29be30",
      "b9f80b841b53409f81a85de07c10747a",
      "63b0a2dd9fbe43418b66150984edf1f7",
      "7f81d8cfb0f74f3ba270de602f31055a",
      "01437ee49ee94b6498662ae2c7976bef",
      "515f80dd48ab4bceb409503b0238c2da",
      "16b426b86a054e34a602a92611d9358c",
      "c9bd6cdf5af148f0b1a61b3a6fa14942",
      "0f4c175d92e24671a02627cb33d368b2",
      "1601e015873f41148dc529d75c632dba",
      "68a3918ba21b4cc3a18375a5315febbb",
      "2e07fc82b25748c0a2917eeb2b605f18",
      "cba09ee90eab442cb33869f3d0458b52",
      "89eb547ddf88488684b34815db34f174",
      "4644a7f3b5e84b549c661d26e333beda",
      "b2e226f00f0d4980a7cce11fcb8e66d3",
      "6ce6fc5c599d4be48b1f470fe573fc69",
      "d31462c88c824af6a8f70630f0fe6ea4",
      "9a940ecd311a46a0819947c40b9c4a30",
      "2ef159251c2e440b910b976de0934f6c",
      "94fbce85fc5f420eb9f80165df35df6d",
      "af738315a7a8415c996301df11d6871d",
      "1c992d8a6a9d4c82af70cee7eaa67163",
      "3bf89ed8287945bb9b58a0a1e8275bba",
      "8b6821ea532245d38621ce033a35ad5b",
      "511b3c568ec8406c9ccbeefe5b38558e",
      "8e450d5aadfa46669c31a45df5513473",
      "3eac2cb530764fcfab1b374108dc3207",
      "772f6a61fe224631b4b92210902de71b",
      "d6580ede37a3434f8434a70413b832df",
      "dbb016a18ca147f5a0109a063515a48c",
      "5ecc07adf3a642a69dbc06dfe0c47bad",
      "694150eba10d4a38a0757385c2b876ba",
      "0c687cdf9bb646d6b8075011629a0d64",
      "2df1000828d7436eae48c83c56050998",
      "048cf138774e462a8a4ed45d374557e8",
      "d4e8263e198a4972b41ff864f5bbaf69",
      "1fcc5a214dad4dc6bda0096582c930db",
      "e685fe2e429b42f68c963fadd64fdc08",
      "5232f88f2e394f2586efa132e9c714fd",
      "3af5fd012b374a5f99b56e683371e3e7",
      "81c70556e6014cb3a0f5c46b0792fba1",
      "2ba85024108042fe86b0065e6acb5270",
      "34270019cfd645d8bafd91f170b60b07",
      "3912dded639646c780800d052e49a3a3",
      "8eb5a4fa8e1e44fd9723d0e4441029d3",
      "de3c65a167214b16b9ee11571698ec04",
      "398bf6bb8ebf4ed1b0a43a15520cc38c",
      "553ac78411d54d57aa459ce57a674661",
      "80c77fe40b494fc89b603adf68bb3c61",
      "3d621a1c1dfd45d5a1a98c56379490a3",
      "38469f9ad4a0404cb8c415eafe6c1251",
      "32dd5285dfbd4f84b33ef38ec6469960",
      "11699333949b4a948ac6b2f040ac7082",
      "cea2452694384023b28b37479737a8a9",
      "1fa64daaf64e4e928376b9670b1e07bf",
      "d7cbbd19f75246949c17a2892ffa05e4",
      "95072b4d6db542cc9a4601cc0edfbade",
      "72ddef061d1446d6b7f84b932db09954",
      "c45182cd03074fcdbaf1a88c3deb3d4e",
      "c85d20531a2444d58082e95f4a3741f5",
      "a1e94ec3bea34740b5a9018b8fe12143",
      "2a5aebaf0e4a4a2a9faa325fbdbe2393",
      "0f852cc9a857422182a54d41214323d0",
      "80091ef8f74c4a7ea0446095eedbe133",
      "36219e7697394ca0b4cecfb6d73be602",
      "7d90fb5f67c64d08a52f45903ff4ce3d",
      "782b0cd9343b49d1aa6f15b0917d9570",
      "387dca8d94b647f4aeb3b0ea094fd99c",
      "4cdeba57721945dc879ec64421203a4f",
      "dee3c592bbf9417bb5117c2014e5bcce",
      "9568ad21e2f547ec9cf4b767f7ba154e",
      "e0e6a7132e9645b1833b9d0af333c5a2",
      "8d01ff43c10a484bb4fac1f28417c2c7",
      "f493bcf516af4f31a4cb4b196d1c2019",
      "57cf0b604ba9415baf8354ffa451e8b4",
      "ed3018a15ef14b3c85f96b34e254865b"
     ]
    },
    "id": "iHDo-9VLqBRx",
    "outputId": "a7b911b6-ffce-484a-cb00-7fc1892d0e38"
   },
   "outputs": [],
   "source": [
    "from sentence_transformers import SentenceTransformer\n",
    "\n",
    "model_transformer = SentenceTransformer('all-MiniLM-L6-v2')  # fast + good quality\n",
    "train_embeddings2 = model_transformer.encode(X_train['clean_text'].tolist(), show_progress_bar=True)\n",
    "test_embeddings2 = model_transformer.encode(X_test['clean_text'].tolist(), show_progress_bar=True)"
   ]
  },
  {
   "cell_type": "code",
   "execution_count": null,
   "metadata": {
    "colab": {
     "base_uri": "https://localhost:8080/"
    },
    "id": "CyYy9dz_qBRx",
    "outputId": "08163914-98e5-49ff-e4bb-087d52b67f33"
   },
   "outputs": [],
   "source": [
    "from sklearn.ensemble import RandomForestClassifier\n",
    "from sklearn.model_selection import train_test_split\n",
    "from sklearn.metrics import classification_report\n",
    "\n",
    "rfc = RandomForestClassifier()\n",
    "rfc.fit(train_embeddings2, y_train)\n",
    "\n",
    "y_pred = rfc.predict(test_embeddings2)\n",
    "print(classification_report(y_test, y_pred))"
   ]
  },
  {
   "cell_type": "markdown",
   "metadata": {
    "id": "rx9K7bVFrC9H"
   },
   "source": []
  },
  {
   "cell_type": "markdown",
   "metadata": {
    "id": "hdIF82n4Lucs"
   },
   "source": [
    "# ROberta"
   ]
  },
  {
   "cell_type": "code",
   "execution_count": null,
   "metadata": {
    "colab": {
     "base_uri": "https://localhost:8080/"
    },
    "id": "NAjCNuy3UKSv",
    "outputId": "6800922e-e575-487c-ba20-9bb371241d43"
   },
   "outputs": [],
   "source": [
    "from transformers import AutoModelForSequenceClassification\n",
    "\n",
    "model = AutoModelForSequenceClassification.from_pretrained(\"songhieng/roberta-phishing-content-detector-4.0\")\n",
    "print(model.config.id2label)\n"
   ]
  },
  {
   "cell_type": "code",
   "execution_count": null,
   "metadata": {
    "colab": {
     "base_uri": "https://localhost:8080/"
    },
    "id": "GnIrCFUuaNFu",
    "outputId": "694ba4aa-5e89-4330-b0c1-187c364b732f"
   },
   "outputs": [],
   "source": [
    "phishing_text = \"We noticed suspicious activity on your account. Please reset your password here: http://fake-site.com\"\n",
    "safe_text = \"Hi John, just confirming our meeting for tomorrow. Regards.\"\n",
    "\n",
    "print(\"Phishing test →\", pipe(phishing_text))\n",
    "print(\"Safe test →\", pipe(safe_text))\n"
   ]
  },
  {
   "cell_type": "code",
   "execution_count": null,
   "metadata": {
    "colab": {
     "base_uri": "https://localhost:8080/"
    },
    "id": "i4DuiH9QKdWf",
    "outputId": "54268bdc-b368-406f-965c-e24c002bc5df"
   },
   "outputs": [],
   "source": [
    "# 2. Import necessary libraries\n",
    "from transformers import pipeline\n",
    "from sklearn.metrics import f1_score, classification_report\n",
    "\n",
    "# 3. Load pre-trained spam classification model\n",
    "pipe = pipeline(\"text-classification\", model=\"songhieng/roberta-phishing-content-detector-4.0\", top_k=1)\n",
    "\n",
    "# 4. Get your input emails (X_test already defined)\n",
    "texts = X_test[\"clean_text\"].tolist()\n",
    "\n",
    "# 5. Run the classifier on all test emails\n",
    "raw_preds = pipe(texts, truncation=True, padding=True)\n",
    "\n",
    "\n"
   ]
  },
  {
   "cell_type": "code",
   "execution_count": null,
   "metadata": {
    "colab": {
     "base_uri": "https://localhost:8080/"
    },
    "id": "6K9Y8N55OIHA",
    "outputId": "9a5ef4a2-7c50-43a7-bdf9-d36f4a893c92"
   },
   "outputs": [],
   "source": [
    "# 6. Convert labels to integers\n",
    "label_map = {\"LABEL_0\": 1, \"LABEL_1\": 0}\n",
    "pred_labels = [label_map[pred[0]['label']] for pred in raw_preds]\n",
    "\n",
    "# 7. Evaluate predictions\n",
    "true_labels = y_test.values\n",
    "print(\"Classification Report:\")\n",
    "print(classification_report(true_labels, pred_labels))\n",
    "print(\"F1 Score:\", f1_score(true_labels, pred_labels))"
   ]
  },
  {
   "cell_type": "code",
   "execution_count": null,
   "metadata": {
    "id": "EH6BpWuHZJFm"
   },
   "outputs": [],
   "source": []
  }
 ],
 "metadata": {
  "accelerator": "GPU",
  "colab": {
   "gpuType": "T4",
   "provenance": []
  },
  "kernelspec": {
   "display_name": "Python 3",
   "name": "python3"
  },
  "language_info": {
   "codemirror_mode": {
    "name": "ipython",
    "version": 3
   },
   "file_extension": ".py",
   "mimetype": "text/x-python",
   "name": "python",
   "nbconvert_exporter": "python",
   "pygments_lexer": "ipython3",
   "version": "3.11.6"
  }
 },
 "nbformat": 4,
 "nbformat_minor": 0
}
