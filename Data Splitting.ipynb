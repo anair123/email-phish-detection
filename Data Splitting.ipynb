{
 "cells": [
  {
   "cell_type": "markdown",
   "metadata": {},
   "source": [
    "# Load Data: Phishing Mail\n",
    "link https://huggingface.co/datasets/zefang-liu/phishing-email-dataset\n"
   ]
  },
  {
   "cell_type": "code",
   "execution_count": 2,
   "metadata": {
    "id": "6Lpyc5EQnd1o"
   },
   "outputs": [],
   "source": [
    "import pandas as pd\n",
    "from sklearn.model_selection import train_test_split\n",
    "import matplotlib.pyplot as plt\n"
   ]
  },
  {
   "cell_type": "code",
   "execution_count": 3,
   "metadata": {
    "id": "K4JG-WTbqkvb"
   },
   "outputs": [
    {
     "name": "stderr",
     "output_type": "stream",
     "text": [
      "c:\\Users\\Alexis\\AppData\\Local\\Programs\\Python\\Python311\\Lib\\site-packages\\tqdm\\auto.py:21: TqdmWarning: IProgress not found. Please update jupyter and ipywidgets. See https://ipywidgets.readthedocs.io/en/stable/user_install.html\n",
      "  from .autonotebook import tqdm as notebook_tqdm\n"
     ]
    }
   ],
   "source": [
    "# Load data (source: https://huggingface.co/datasets/zefang-liu/phishing-email-dataset)\n",
    "\n",
    "\n",
    "df = pd.read_csv(\"hf://datasets/zefang-liu/phishing-email-dataset/Phishing_Email.csv\")"
   ]
  },
  {
   "cell_type": "code",
   "execution_count": 4,
   "metadata": {},
   "outputs": [
    {
     "name": "stdout",
     "output_type": "stream",
     "text": [
      "<class 'pandas.core.frame.DataFrame'>\n",
      "RangeIndex: 18650 entries, 0 to 18649\n",
      "Data columns (total 3 columns):\n",
      " #   Column      Non-Null Count  Dtype \n",
      "---  ------      --------------  ----- \n",
      " 0   Unnamed: 0  18650 non-null  int64 \n",
      " 1   Email Text  18634 non-null  object\n",
      " 2   Email Type  18650 non-null  object\n",
      "dtypes: int64(1), object(2)\n",
      "memory usage: 437.2+ KB\n"
     ]
    }
   ],
   "source": [
    "df.info()\n"
   ]
  },
  {
   "cell_type": "code",
   "execution_count": 5,
   "metadata": {
    "colab": {
     "base_uri": "https://localhost:8080/"
    },
    "id": "hGUVHAJYsurl",
    "outputId": "4adbafc4-2d1a-463b-c7e3-1132ec868a1b"
   },
   "outputs": [
    {
     "data": {
      "text/plain": [
       "(18650, 3)"
      ]
     },
     "execution_count": 5,
     "metadata": {},
     "output_type": "execute_result"
    }
   ],
   "source": [
    "df.shape"
   ]
  },
  {
   "cell_type": "code",
   "execution_count": 6,
   "metadata": {
    "colab": {
     "base_uri": "https://localhost:8080/"
    },
    "id": "_aFNABUYqo2I",
    "outputId": "3f4554f5-955d-4451-95dc-c206688ed0d5"
   },
   "outputs": [
    {
     "data": {
      "text/plain": [
       "Index(['Unnamed: 0', 'Email Text', 'Email Type'], dtype='object')"
      ]
     },
     "execution_count": 6,
     "metadata": {},
     "output_type": "execute_result"
    }
   ],
   "source": [
    "df.columns"
   ]
  },
  {
   "cell_type": "markdown",
   "metadata": {},
   "source": [
    "# Preprocesing data"
   ]
  },
  {
   "cell_type": "code",
   "execution_count": 7,
   "metadata": {
    "colab": {
     "base_uri": "https://localhost:8080/"
    },
    "id": "EA1alN-oq4ci",
    "outputId": "c29ef714-7450-4c34-a50c-f46c9a63352a"
   },
   "outputs": [
    {
     "name": "stdout",
     "output_type": "stream",
     "text": [
      "\n",
      "📋 Columns: ['Unnamed: 0', 'Email Text', 'Email Type']\n",
      "\n",
      "🔍 Missing values:\n",
      " Unnamed: 0     0\n",
      "Email Text    16\n",
      "Email Type     0\n",
      "dtype: int64\n",
      "\n",
      "⚖️ Class distribution:\n",
      "Email Type\n",
      "Safe Email        60.707775\n",
      "Phishing Email    39.292225\n",
      "Name: proportion, dtype: float64\n",
      "\n",
      "🔍 Duplicated rows: 0\n",
      "\n",
      "🔎 Unique Email No.: 18650 / 18650\n"
     ]
    }
   ],
   "source": [
    "\n",
    "# Check column names\n",
    "print(\"\\n📋 Columns:\", df.columns.tolist())\n",
    "\n",
    "# Check for missing values\n",
    "print(\"\\n🔍 Missing values:\\n\", df.isnull().sum())\n",
    "\n",
    "# Check class distribution\n",
    "print(\"\\n⚖️ Class distribution:\")\n",
    "print(df['Email Type'].value_counts(normalize=True) * 100)\n",
    "\n",
    "# Check for duplicates\n",
    "print(\"\\n🔍 Duplicated rows:\", df.duplicated().sum())\n",
    "\n",
    "# Check unique ID consistency\n",
    "print(\"\\n🔎 Unique Email No.:\", df['Unnamed: 0'].nunique(), \"/\", len(df))"
   ]
  },
  {
   "cell_type": "code",
   "execution_count": 8,
   "metadata": {
    "colab": {
     "base_uri": "https://localhost:8080/",
     "height": 410
    },
    "id": "sAlLBRmDrTrD",
    "outputId": "fc6cfe20-7dfc-4fc2-a709-1100db59808c"
   },
   "outputs": [
    {
     "data": {
      "image/png": "[encoded data removed]",
      "text/plain": [
       "<Figure size 400x400 with 1 Axes>"
      ]
     },
     "metadata": {},
     "output_type": "display_data"
    }
   ],
   "source": [
    "# Optional: visualize class distribution\n",
    "plt.figure(figsize=(4,4))\n",
    "df['Email Type'].value_counts().plot(kind='bar', title='Class Distribution (Label)')\n",
    "plt.xticks(ticks=[0, 1], labels=['Not phishing (0)', 'Phishing (1)'], rotation=0)\n",
    "plt.ylabel(\"Count\")\n",
    "plt.show()"
   ]
  },
  {
   "cell_type": "code",
   "execution_count": 9,
   "metadata": {},
   "outputs": [
    {
     "data": {
      "text/plain": [
       "Email Type\n",
       "Safe Email        11322\n",
       "Phishing Email     7328\n",
       "Name: count, dtype: int64"
      ]
     },
     "execution_count": 9,
     "metadata": {},
     "output_type": "execute_result"
    }
   ],
   "source": [
    "# Check phishing email\n",
    "df['Email Type'].value_counts()"
   ]
  },
  {
   "cell_type": "code",
   "execution_count": 10,
   "metadata": {
    "id": "JqMeDFTKsWks"
   },
   "outputs": [],
   "source": [
    "# Remove rows where Email Text is missing\n",
    "df_clean = df.dropna(subset=['Email Text'])\n"
   ]
  },
  {
   "cell_type": "code",
   "execution_count": 11,
   "metadata": {},
   "outputs": [],
   "source": [
    "# Drop first column\n",
    "df_clean = df.drop(columns= 'Unnamed: 0' , inplace=True,axis=1)"
   ]
  },
  {
   "cell_type": "code",
   "execution_count": 12,
   "metadata": {},
   "outputs": [
    {
     "name": "stdout",
     "output_type": "stream",
     "text": [
      "Rows with 'empty' as placeholder: 533\n"
     ]
    }
   ],
   "source": [
    "# Check for Placeholder Text (like 'empty')\n",
    "placeholder_count = (df['Email Text'].str.lower() == 'empty').sum()\n",
    "print(f\"Rows with 'empty' as placeholder: {placeholder_count}\")\n"
   ]
  },
  {
   "cell_type": "code",
   "execution_count": 13,
   "metadata": {},
   "outputs": [
    {
     "name": "stdout",
     "output_type": "stream",
     "text": [
      "      Email Text      Email Type\n",
      "54         empty  Phishing Email\n",
      "106        empty      Safe Email\n",
      "130        empty  Phishing Email\n",
      "244        empty  Phishing Email\n",
      "305        empty  Phishing Email\n",
      "...          ...             ...\n",
      "18607      empty      Safe Email\n",
      "18626      empty      Safe Email\n",
      "18637      empty  Phishing Email\n",
      "18643      empty      Safe Email\n",
      "18649      empty  Phishing Email\n",
      "\n",
      "[533 rows x 2 columns]\n"
     ]
    }
   ],
   "source": [
    "empty_placeholder_rows = df[df['Email Text'].str.lower() == 'empty']\n",
    "print(empty_placeholder_rows)"
   ]
  },
  {
   "cell_type": "code",
   "execution_count": 14,
   "metadata": {},
   "outputs": [],
   "source": [
    "# Drop empty values\n",
    "df_clean = df[df['Email Text'].str.lower() != 'empty']"
   ]
  },
  {
   "cell_type": "code",
   "execution_count": 15,
   "metadata": {
    "colab": {
     "base_uri": "https://localhost:8080/",
     "height": 178
    },
    "id": "H_bqXKOAsZxk",
    "outputId": "9a9543ba-a0a9-4d17-aed2-9c725f0d7a0c"
   },
   "outputs": [
    {
     "name": "stdout",
     "output_type": "stream",
     "text": [
      "Empty strings (''): 0\n"
     ]
    }
   ],
   "source": [
    "# Check for Truly Empty Strings\n",
    "empty_string_count = (df['Email Text'] == '').sum()\n",
    "print(f\"Empty strings (''): {empty_string_count}\")"
   ]
  },
  {
   "cell_type": "code",
   "execution_count": 16,
   "metadata": {},
   "outputs": [
    {
     "name": "stdout",
     "output_type": "stream",
     "text": [
      "Whitespace-only strings: 3\n"
     ]
    }
   ],
   "source": [
    "# Check for Strings with Only Whitespace\n",
    "whitespace_count = df['Email Text'].str.strip().eq('').sum()\n",
    "print(f\"Whitespace-only strings: {whitespace_count}\")"
   ]
  },
  {
   "cell_type": "code",
   "execution_count": 32,
   "metadata": {},
   "outputs": [],
   "source": [
    "# Remove rows where Email Text is empty or only whitespace (incl. \\n, \\t)\n",
    "df_clean = df_clean[df_clean['Email Text'].str.strip().astype(bool)]"
   ]
  },
  {
   "cell_type": "code",
   "execution_count": null,
   "metadata": {
    "id": "tOeCbdtEnkHs"
   },
   "outputs": [],
   "source": [
    "# Binary numeric values\n",
    "df['Email Type'] = df['Email Type'].map({'Safe Email' :1 ,'Phishing Email' : 0})\n",
    "\n",
    "#  Define features (X) and target (y)\n",
    "X = df_clean[['Email Text']]  #  text as features\n",
    "y = df_clean['Email Type']   # target for stratification\n"
   ]
  },
  {
   "cell_type": "code",
   "execution_count": 18,
   "metadata": {
    "id": "uirhwFbpqhW-"
   },
   "outputs": [],
   "source": [
    "\n",
    "# Perform 70-30 stratified split\n",
    "X_train, X_test, y_train, y_test = train_test_split(\n",
    "    X, y,\n",
    "    test_size=0.3,\n",
    "    stratify=y,\n",
    "    random_state=42\n",
    ")\n"
   ]
  },
  {
   "cell_type": "code",
   "execution_count": 19,
   "metadata": {
    "colab": {
     "base_uri": "https://localhost:8080/"
    },
    "id": "lV8oFnQCqwkX",
    "outputId": "f7456787-bb00-4fb6-d8ff-de7d2cb45281"
   },
   "outputs": [
    {
     "name": "stdout",
     "output_type": "stream",
     "text": [
      "\n",
      "Final splits:\n",
      "Train: (12681, 2)\n",
      "Test: (5436, 2)\n"
     ]
    }
   ],
   "source": [
    "# Combine X and y for convenient inspection\n",
    "train_df = X_train.copy()\n",
    "train_df['Label'] = y_train\n",
    "\n",
    "test_df = X_test.copy()\n",
    "test_df['Label'] = y_test\n",
    "\n",
    "print(\"\\nFinal splits:\")\n",
    "print(\"Train:\", train_df.shape)\n",
    "print(\"Test:\", test_df.shape)\n",
    "\n"
   ]
  },
  {
   "cell_type": "code",
   "execution_count": 26,
   "metadata": {},
   "outputs": [
    {
     "data": {
      "text/plain": [
       "6066    Phishing Email\n",
       "3030        Safe Email\n",
       "8485    Phishing Email\n",
       "8816    Phishing Email\n",
       "5568        Safe Email\n",
       "Name: Email Type, dtype: object"
      ]
     },
     "execution_count": 26,
     "metadata": {},
     "output_type": "execute_result"
    }
   ],
   "source": [
    "y_train.head(5)"
   ]
  },
  {
   "cell_type": "code",
   "execution_count": 20,
   "metadata": {
    "id": "dTUxlu5Xsm8h"
   },
   "outputs": [],
   "source": [
    "# Save files\n",
    "train_df.to_csv(\"Data/train.csv\", index=False)\n",
    "test_df.to_csv(\"Data/test.csv\", index=False)"
   ]
  },
  {
   "cell_type": "markdown",
   "metadata": {},
   "source": [
    "# BERT Evaluation"
   ]
  },
  {
   "cell_type": "code",
   "execution_count": 21,
   "metadata": {
    "id": "66f-AK7FswPd"
   },
   "outputs": [],
   "source": [
    "import re\n",
    "'''\n",
    "# Function to clean email text\n",
    "# This function normalizes whitespace, masks email addresses, URLs, and long numbers, and removes unwanted characters.\n",
    "# BERT models typically require lowercased text, so we also convert the text to lowercase.\n",
    "# This function is applied to each email text in the dataset.\n",
    "# BERT models just analyse 512 tokens, so we don't need to worry about long texts.\n",
    "'''\n",
    "def clean_email_text(text):\n",
    "    if isinstance(text, str):\n",
    "        # Normalize whitespace characters\n",
    "        text = text.replace('\\n', ' ').replace('\\r', ' ').replace('\\t', ' ')\n",
    "        text = re.sub(r'\\s+', ' ', text)\n",
    "\n",
    "        # Mask email addresses\n",
    "        text = re.sub(r'\\b[\\w.-]+?@\\w+?\\.\\w+?\\b', ' [EMAIL] ', text)\n",
    "\n",
    "        # Mask URLs\n",
    "        text = re.sub(r'https?://\\S+|www\\.\\S+', ' [URL] ', text)\n",
    "\n",
    "        # Replace long numbers (IDs or phone numbers)\n",
    "        text = re.sub(r'\\d{5,}', ' [NUM] ', text)\n",
    "\n",
    "        # Remove repeated punctuation like \"!!!\" or \"??\"\n",
    "        text = re.sub(r'([!?.]){2,}', r'\\1', text)\n",
    "\n",
    "        # Remove unwanted characters but keep certain punctuations\n",
    "        allowed_chars = r'[^\\w\\s\\[\\].,!?@-]'\n",
    "        text = re.sub(allowed_chars, '', text)\n",
    "\n",
    "        # Convert to lowercase and trim\n",
    "        return text.strip().lower()\n",
    "\n",
    "    return \"\"\n",
    "\n",
    "# Apply the function\n",
    "#df['clean_text'] = df['Email Text'].map(clean_email_text) for entire dataset\n",
    "X_train['clean_text'] = X_train['Email Text'].map(clean_email_text)\n",
    "X_test['clean_text'] = X_test['Email Text'].map(clean_email_text)"
   ]
  },
  {
   "cell_type": "code",
   "execution_count": null,
   "metadata": {},
   "outputs": [],
   "source": [
    "import torch\n",
    "from transformers import AutoTokenizer, AutoModel\n",
    "import numpy as np\n",
    "from tqdm import tqdm\n",
    "\n",
    "# Load model and tokenizer\n",
    "tokenizer = AutoTokenizer.from_pretrained('bert-base-uncased')\n",
    "model = AutoModel.from_pretrained('bert-base-uncased')\n",
    "model.eval()\n",
    "\n",
    "# Use GPU if available\n",
    "device = torch.device(\"cuda\" if torch.cuda.is_available() else \"cpu\")\n",
    "model.to(device)\n",
    "print(f\"Using device: {device}\")\n",
    "# Batched embedding function\n",
    "def get_embeddings_batched(texts, batch_size=32):\n",
    "    all_embeddings = []\n",
    "\n",
    "    for i in tqdm(range(0, len(texts), batch_size)):\n",
    "        batch = texts[i:i + batch_size]\n",
    "\n",
    "        # Tokenize with padding and truncation\n",
    "        inputs = tokenizer(batch, return_tensors='pt', padding=True, truncation=True, max_length=512)\n",
    "        inputs = {k: v.to(device) for k, v in inputs.items()}\n",
    "\n",
    "        with torch.no_grad():\n",
    "            outputs = model(**inputs)\n",
    "\n",
    "        # Mean pool across tokens for each sequence\n",
    "        last_hidden = outputs.last_hidden_state  # shape: [batch_size, seq_len, hidden_size]\n",
    "        batch_embeddings = last_hidden.mean(dim=1).cpu().numpy()  # shape: [batch_size, hidden_size]\n",
    "\n",
    "        all_embeddings.append(batch_embeddings)\n",
    "\n",
    "    return np.vstack(all_embeddings)\n",
    "\n",
    "# Apply to your DataFrame\n",
    "train_texts = X_train['Email Text'].tolist()\n",
    "test_texts = X_test['Email Text'].tolist()\n",
    "\n",
    "train_embeddings = get_embeddings_batched(train_texts)\n",
    "test_embeddings = get_embeddings_batched(test_texts)"
   ]
  },
  {
   "cell_type": "code",
   "execution_count": null,
   "metadata": {},
   "outputs": [],
   "source": [
    "from sklearn.ensemble import RandomForestClassifier\n",
    "from sklearn.model_selection import train_test_split\n",
    "from sklearn.metrics import classification_report\n",
    "\n",
    "clf = RandomForestClassifier()\n",
    "clf.fit(train_embeddings, y_train)\n",
    "\n",
    "y_pred = clf.predict(test_embeddings)\n",
    "print(classification_report(y_test, y_pred))"
   ]
  },
  {
   "attachments": {
    "image.png": {
     "image/png": "[encoded data removed]"
    }
   },
   "cell_type": "markdown",
   "metadata": {},
   "source": [
    "![image.png](attachment:image.png)"
   ]
  },
  {
   "cell_type": "markdown",
   "metadata": {},
   "source": [
    "# Transformer all-MiniLM-L6-v2"
   ]
  },
  {
   "cell_type": "code",
   "execution_count": null,
   "metadata": {},
   "outputs": [],
   "source": [
    "from sentence_transformers import SentenceTransformer\n",
    "\n",
    "model = SentenceTransformer('all-MiniLM-L6-v2')  # fast + good quality\n",
    "train_embeddings = model.encode(X_train['Email Text'].tolist(), show_progress_bar=True)\n",
    "test_embeddings = model.encode(X_test['Email Text'].tolist(), show_progress_bar=True)"
   ]
  },
  {
   "cell_type": "code",
   "execution_count": null,
   "metadata": {},
   "outputs": [],
   "source": [
    "clf = RandomForestClassifier()\n",
    "clf.fit(train_embeddings, y_train)\n",
    "\n",
    "y_pred = clf.predict(test_embeddings)\n",
    "print(classification_report(y_test, y_pred))"
   ]
  },
  {
   "attachments": {
    "image.png": {
     "image/png": "[encoded data removed]"
    }
   },
   "cell_type": "markdown",
   "metadata": {},
   "source": [
    "![image.png](attachment:image.png)"
   ]
  },
  {
   "cell_type": "markdown",
   "metadata": {},
   "source": [
    "Classification Performance Comparison\n",
    "Model F1-scores (by class)\n",
    "| Model         | Class 0 (Safe) | Class 1 (Phishing) | Macro Avg | Weighted Avg |\n",
    "| ------------- | -------------- | ------------------ | --------- | ------------ |\n",
    "| **MiniLM-L6** | 0.92           | 0.95               | 0.94      | 0.94         |\n",
    "| **BERT Base** | 0.95           | 0.97               | 0.96      | 0.96         |\n",
    "\n",
    "Observations:\n",
    "BERT slightly outperforms MiniLM-L6 across all metrics.\n",
    "\n",
    "F1-score for phishing detection (Class 1) improved from 0.95 → 0.97\n",
    "\n",
    "Macro and weighted averages are both higher for BERT, indicating more balanced performance."
   ]
  },
  {
   "cell_type": "markdown",
   "metadata": {},
   "source": [
    "Questions:\n",
    "\n",
    "\n",
    "1.   I have 512 max lenght characters\n",
    "2.   I have random forest, should I use other one?\n"
   ]
  },
  {
   "cell_type": "markdown",
   "metadata": {},
   "source": []
  }
 ],
 "metadata": {
  "colab": {
   "provenance": []
  },
  "kernelspec": {
   "display_name": "Python 3",
   "language": "python",
   "name": "python3"
  },
  "language_info": {
   "codemirror_mode": {
    "name": "ipython",
    "version": 3
   },
   "file_extension": ".py",
   "mimetype": "text/x-python",
   "name": "python",
   "nbconvert_exporter": "python",
   "pygments_lexer": "ipython3",
   "version": "3.11.6"
  }
 },
 "nbformat": 4,
 "nbformat_minor": 4
}
