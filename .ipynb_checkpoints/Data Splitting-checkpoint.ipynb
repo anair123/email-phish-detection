{
  "nbformat": 4,
  "nbformat_minor": 0,
  "metadata": {
    "colab": {
      "provenance": []
    },
    "kernelspec": {
      "name": "python3",
      "display_name": "Python 3"
    },
    "language_info": {
      "name": "python"
    }
  },
  "cells": [
    {
      "cell_type": "code",
      "execution_count": 1,
      "metadata": {
        "id": "6Lpyc5EQnd1o"
      },
      "outputs": [],
      "source": [
        "import pandas as pd\n",
        "from sklearn.model_selection import train_test_split\n",
        "import matplotlib.pyplot as plt\n"
      ]
    },
    {
      "cell_type": "code",
      "source": [
        "# Load data (source: https://huggingface.co/datasets/zefang-liu/phishing-email-dataset)\n",
        "df = pd.read_csv(\"Phishing_Email.csv\")"
      ],
      "metadata": {
        "id": "K4JG-WTbqkvb"
      },
      "execution_count": 2,
      "outputs": []
    },
    {
      "cell_type": "code",
      "source": [
        "df.shape"
      ],
      "metadata": {
        "colab": {
          "base_uri": "https://localhost:8080/"
        },
        "id": "hGUVHAJYsurl",
        "outputId": "4adbafc4-2d1a-463b-c7e3-1132ec868a1b"
      },
      "execution_count": 3,
      "outputs": [
        {
          "output_type": "execute_result",
          "data": {
            "text/plain": [
              "(18650, 3)"
            ]
          },
          "metadata": {},
          "execution_count": 3
        }
      ]
    },
    {
      "cell_type": "code",
      "source": [
        "df.columns"
      ],
      "metadata": {
        "colab": {
          "base_uri": "https://localhost:8080/"
        },
        "id": "_aFNABUYqo2I",
        "outputId": "3f4554f5-955d-4451-95dc-c206688ed0d5"
      },
      "execution_count": 4,
      "outputs": [
        {
          "output_type": "execute_result",
          "data": {
            "text/plain": [
              "Index(['Unnamed: 0', 'Email Text', 'Email Type'], dtype='object')"
            ]
          },
          "metadata": {},
          "execution_count": 4
        }
      ]
    },
    {
      "cell_type": "code",
      "source": [
        "\n",
        "# Check column names\n",
        "print(\"\\n📋 Columns:\", df.columns.tolist())\n",
        "\n",
        "# Check for missing values\n",
        "print(\"\\n🔍 Missing values:\\n\", df.isnull().sum())\n",
        "\n",
        "# Check class distribution\n",
        "print(\"\\n⚖️ Class distribution:\")\n",
        "print(df['Email Type'].value_counts(normalize=True) * 100)\n",
        "\n",
        "# Check for duplicates\n",
        "print(\"\\n🔍 Duplicated rows:\", df.duplicated().sum())\n",
        "\n",
        "# Check unique ID consistency\n",
        "print(\"\\n🔎 Unique Email No.:\", df['Unnamed: 0'].nunique(), \"/\", len(df))"
      ],
      "metadata": {
        "colab": {
          "base_uri": "https://localhost:8080/"
        },
        "id": "EA1alN-oq4ci",
        "outputId": "c29ef714-7450-4c34-a50c-f46c9a63352a"
      },
      "execution_count": 5,
      "outputs": [
        {
          "output_type": "stream",
          "name": "stdout",
          "text": [
            "\n",
            "📋 Columns: ['Unnamed: 0', 'Email Text', 'Email Type']\n",
            "\n",
            "🔍 Missing values:\n",
            " Unnamed: 0     0\n",
            "Email Text    16\n",
            "Email Type     0\n",
            "dtype: int64\n",
            "\n",
            "⚖️ Class distribution:\n",
            "Email Type\n",
            "Safe Email        60.707775\n",
            "Phishing Email    39.292225\n",
            "Name: proportion, dtype: float64\n",
            "\n",
            "🔍 Duplicated rows: 0\n",
            "\n",
            "🔎 Unique Email No.: 18650 / 18650\n"
          ]
        }
      ]
    },
    {
      "cell_type": "code",
      "source": [
        "# Optional: visualize class distribution\n",
        "plt.figure(figsize=(4,4))\n",
        "df['Email Type'].value_counts().plot(kind='bar', title='Class Distribution (Label)')\n",
        "plt.xticks(ticks=[0, 1], labels=['Not phishing (0)', 'Phishing (1)'], rotation=0)\n",
        "plt.ylabel(\"Count\")\n",
        "plt.show()"
      ],
      "metadata": {
        "colab": {
          "base_uri": "https://localhost:8080/",
          "height": 410
        },
        "id": "sAlLBRmDrTrD",
        "outputId": "fc6cfe20-7dfc-4fc2-a709-1100db59808c"
      },
      "execution_count": 6,
      "outputs": [
        {
          "output_type": "display_data",
          "data": {
            "text/plain": [
              "<Figure size 400x400 with 1 Axes>"
            ],
            "image/png": "[encoded data removed]"
          },
          "metadata": {}
        }
      ]
    },
    {
      "cell_type": "code",
      "source": [
        "# Remove rows where Email Text is missing\n",
        "df_clean = df.dropna(subset=['Email Text'])"
      ],
      "metadata": {
        "id": "JqMeDFTKsWks"
      },
      "execution_count": 7,
      "outputs": []
    },
    {
      "cell_type": "code",
      "source": [
        "df_clean.isnull().sum()"
      ],
      "metadata": {
        "colab": {
          "base_uri": "https://localhost:8080/",
          "height": 178
        },
        "id": "H_bqXKOAsZxk",
        "outputId": "9a9543ba-a0a9-4d17-aed2-9c725f0d7a0c"
      },
      "execution_count": 8,
      "outputs": [
        {
          "output_type": "execute_result",
          "data": {
            "text/plain": [
              "Unnamed: 0    0\n",
              "Email Text    0\n",
              "Email Type    0\n",
              "dtype: int64"
            ],
            "text/html": [
              "<div>\n",
              "<style scoped>\n",
              "    .dataframe tbody tr th:only-of-type {\n",
              "        vertical-align: middle;\n",
              "    }\n",
              "\n",
              "    .dataframe tbody tr th {\n",
              "        vertical-align: top;\n",
              "    }\n",
              "\n",
              "    .dataframe thead th {\n",
              "        text-align: right;\n",
              "    }\n",
              "</style>\n",
              "<table border=\"1\" class=\"dataframe\">\n",
              "  <thead>\n",
              "    <tr style=\"text-align: right;\">\n",
              "      <th></th>\n",
              "      <th>0</th>\n",
              "    </tr>\n",
              "  </thead>\n",
              "  <tbody>\n",
              "    <tr>\n",
              "      <th>Unnamed: 0</th>\n",
              "      <td>0</td>\n",
              "    </tr>\n",
              "    <tr>\n",
              "      <th>Email Text</th>\n",
              "      <td>0</td>\n",
              "    </tr>\n",
              "    <tr>\n",
              "      <th>Email Type</th>\n",
              "      <td>0</td>\n",
              "    </tr>\n",
              "  </tbody>\n",
              "</table>\n",
              "</div><br><label><b>dtype:</b> int64</label>"
            ]
          },
          "metadata": {},
          "execution_count": 8
        }
      ]
    },
    {
      "cell_type": "code",
      "source": [
        "\n",
        "#  Define features (X) and target (y)\n",
        "X = df_clean[['Email Text']]  #  text as features\n",
        "y = df_clean['Email Type']   # target for stratification\n"
      ],
      "metadata": {
        "id": "tOeCbdtEnkHs"
      },
      "execution_count": 9,
      "outputs": []
    },
    {
      "cell_type": "code",
      "source": [
        "\n",
        "# Perform 70-30 stratified split\n",
        "X_train, X_test, y_train, y_test = train_test_split(\n",
        "    X, y,\n",
        "    test_size=0.3,\n",
        "    stratify=y,\n",
        "    random_state=42\n",
        ")\n"
      ],
      "metadata": {
        "id": "uirhwFbpqhW-"
      },
      "execution_count": 10,
      "outputs": []
    },
    {
      "cell_type": "code",
      "source": [
        "# Combine X and y for convenient inspection\n",
        "train_df = X_train.copy()\n",
        "train_df['Label'] = y_train\n",
        "\n",
        "test_df = X_test.copy()\n",
        "test_df['Label'] = y_test\n",
        "\n",
        "print(\"\\nFinal splits:\")\n",
        "print(\"Train:\", train_df.shape)\n",
        "print(\"Test:\", test_df.shape)\n",
        "\n"
      ],
      "metadata": {
        "colab": {
          "base_uri": "https://localhost:8080/"
        },
        "id": "lV8oFnQCqwkX",
        "outputId": "f7456787-bb00-4fb6-d8ff-de7d2cb45281"
      },
      "execution_count": 11,
      "outputs": [
        {
          "output_type": "stream",
          "name": "stdout",
          "text": [
            "\n",
            "Final splits:\n",
            "Train: (13043, 2)\n",
            "Test: (5591, 2)\n"
          ]
        }
      ]
    },
    {
      "cell_type": "code",
      "source": [
        "# Save files\n",
        "train_df.to_csv(\"train.csv\", index=False)\n",
        "test_df.to_csv(\"test.csv\", index=False)"
      ],
      "metadata": {
        "id": "dTUxlu5Xsm8h"
      },
      "execution_count": 12,
      "outputs": []
    },
    {
      "cell_type": "code",
      "source": [],
      "metadata": {
        "id": "66f-AK7FswPd"
      },
      "execution_count": 12,
      "outputs": []
    }
  ]
}